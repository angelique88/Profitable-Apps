{
 "cells": [
  {
   "cell_type": "markdown",
   "metadata": {
    "collapsed": true
   },
   "source": [
    "# Profitable App Profiles for the App Store and Google Play Markets\n",
    "\n",
    "The goal for this project is to analyze data from the App Store and Google Play to help developers understand what type of apps are likely to attract more users. As many free apps receive revenue from ads, the more users engaged with the app, the better.\n"
   ]
  },
  {
   "cell_type": "markdown",
   "metadata": {},
   "source": [
    "As of September 2018, there were approximately **2 million iOS apps** available on the App Store, and **2.1 million Android apps** on Google Play.\n",
    "\n",
    "![Image](https://s3.amazonaws.com/dq-content/350/py1m8_statista.png)\n",
    "\n",
    "Source: [Statista](https://www.statista.com/statistics/276623/number-of-apps-available-in-leading-app-stores/)\n",
    "\n",
    "<br>\n",
    "\n",
    "Collecting data for over 4 million apps requires a significant amount of time and money. Luckily, these are two data sets that seem suitable for the project's goals:\n",
    "\n",
    "* A [data set](https://dq-content.s3.amazonaws.com/350/googleplaystore.csv) containing data about approximately 10,000 Android apps from Google Play, collected in August 2018. \n",
    "* A [data set](https://dq-content.s3.amazonaws.com/350/AppleStore.csv)containing data about approximately 7,000 iOS apps from the App Store, collected in July 2017.\n",
    "\n",
    "<br>\n",
    "\n",
    "### Exploring the data sets"
   ]
  },
  {
   "cell_type": "code",
   "execution_count": 1,
   "metadata": {
    "collapsed": false
   },
   "outputs": [],
   "source": [
    "from csv import reader\n",
    "\n",
    "### The Google Play data set ###\n",
    "opened_file = open('googleplaystore.csv')\n",
    "read_file = reader(opened_file)\n",
    "android = list(read_file)\n",
    "android_header = android[0]\n",
    "android_data = android[1:]\n",
    "\n",
    "### The App Store data set ###\n",
    "opened_file = open('AppleStore.csv')\n",
    "read_file = reader(opened_file)\n",
    "ios = list(read_file)\n",
    "ios_header = ios[0]\n",
    "ios_data = ios[1:]"
   ]
  },
  {
   "cell_type": "markdown",
   "metadata": {},
   "source": [
    "To make them easier to explore, a function named `explore_data()` can be used repeatedly to print rows in a readable way."
   ]
  },
  {
   "cell_type": "code",
   "execution_count": 2,
   "metadata": {
    "collapsed": true
   },
   "outputs": [],
   "source": [
    "def explore_data(dataset, start, end, rows_and_columns=False):\n",
    "    dataset_slice = dataset[start:end]    \n",
    "    for row in dataset_slice:\n",
    "        print(row)\n",
    "        print('\\n') # adds a new (empty) line after each row\n",
    "\n",
    "    if rows_and_columns:\n",
    "        print('Number of rows:', len(dataset))\n",
    "        print('Number of columns:', len(dataset[0]))"
   ]
  },
  {
   "cell_type": "code",
   "execution_count": 3,
   "metadata": {
    "collapsed": false,
    "scrolled": true
   },
   "outputs": [
    {
     "name": "stdout",
     "output_type": "stream",
     "text": [
      "['App', 'Category', 'Rating', 'Reviews', 'Size', 'Installs', 'Type', 'Price', 'Content Rating', 'Genres', 'Last Updated', 'Current Ver', 'Android Ver']\n",
      "\n",
      "\n",
      "['Photo Editor & Candy Camera & Grid & ScrapBook', 'ART_AND_DESIGN', '4.1', '159', '19M', '10,000+', 'Free', '0', 'Everyone', 'Art & Design', 'January 7, 2018', '1.0.0', '4.0.3 and up']\n",
      "\n",
      "\n",
      "['Coloring book moana', 'ART_AND_DESIGN', '3.9', '967', '14M', '500,000+', 'Free', '0', 'Everyone', 'Art & Design;Pretend Play', 'January 15, 2018', '2.0.0', '4.0.3 and up']\n",
      "\n",
      "\n",
      "['U Launcher Lite – FREE Live Cool Themes, Hide Apps', 'ART_AND_DESIGN', '4.7', '87510', '8.7M', '5,000,000+', 'Free', '0', 'Everyone', 'Art & Design', 'August 1, 2018', '1.2.4', '4.0.3 and up']\n",
      "\n",
      "\n",
      "Number of rows: 10842\n",
      "Number of columns: 13\n"
     ]
    }
   ],
   "source": [
    "#First four rows from the Android data set\n",
    "\n",
    "explore_data(android, 0, 4, True)"
   ]
  },
  {
   "cell_type": "markdown",
   "metadata": {},
   "source": [
    "We can see that our data set contains 10842 rows and 13 columns or categories of information. Some insightful information to use in the analysis includes: \"App\", \"Category\", \"Rating\", \"Reviews\", \"Type\", \"Price\", \"Content Rating\"."
   ]
  },
  {
   "cell_type": "code",
   "execution_count": 4,
   "metadata": {
    "collapsed": false
   },
   "outputs": [
    {
     "name": "stdout",
     "output_type": "stream",
     "text": [
      "['id', 'track_name', 'size_bytes', 'currency', 'price', 'rating_count_tot', 'rating_count_ver', 'user_rating', 'user_rating_ver', 'ver', 'cont_rating', 'prime_genre', 'sup_devices.num', 'ipadSc_urls.num', 'lang.num', 'vpp_lic']\n",
      "\n",
      "\n",
      "['284882215', 'Facebook', '389879808', 'USD', '0.0', '2974676', '212', '3.5', '3.5', '95.0', '4+', 'Social Networking', '37', '1', '29', '1']\n",
      "\n",
      "\n",
      "['389801252', 'Instagram', '113954816', 'USD', '0.0', '2161558', '1289', '4.5', '4.0', '10.23', '12+', 'Photo & Video', '37', '0', '29', '1']\n",
      "\n",
      "\n",
      "['529479190', 'Clash of Clans', '116476928', 'USD', '0.0', '2130805', '579', '4.5', '4.5', '9.24.12', '9+', 'Games', '38', '5', '18', '1']\n",
      "\n",
      "\n",
      "Number of rows: 7198\n",
      "Number of columns: 16\n"
     ]
    }
   ],
   "source": [
    "#First four rows from the ios data set\n",
    "\n",
    "explore_data(ios, 0, 4, True)"
   ]
  },
  {
   "cell_type": "markdown",
   "metadata": {},
   "source": [
    "We can see that our data set contains 7198 rows and 16 columns or categories of information. Some insightful information to use in the analysis includes: \"track_name\", \"price\", \"rating_count_tot\", \"user_rating\", \"content_rating\", \"prime_genre\"."
   ]
  },
  {
   "cell_type": "markdown",
   "metadata": {},
   "source": [
    "### Deleting inaccurate data\n",
    "\n",
    "Before beginning our analysis, we need to make sure the data we analyze is accurate, otherwise the results of our analysis will be wrong. This means that we need to:\n",
    "\n",
    "* Detect inaccurate data, and correct or remove it.\n",
    "* Detect duplicate data, and remove the duplicates.\n",
    "\n",
    "Recall that at our company, we only build **apps that are free** to download and install, and that are directed toward an **English-speaking audience.** This means that we'll need to:\n",
    "\n",
    "* Remove non-English apps like 爱奇艺PPS -《欢乐颂2》电视剧热播.\n",
    "* Remove apps that aren't free."
   ]
  },
  {
   "cell_type": "markdown",
   "metadata": {},
   "source": [
    "According to the discussion section of the Google Pay data set, an error has been reported for entry 10472. This entry will be printed below."
   ]
  },
  {
   "cell_type": "code",
   "execution_count": 5,
   "metadata": {
    "collapsed": false,
    "scrolled": true
   },
   "outputs": [
    {
     "name": "stdout",
     "output_type": "stream",
     "text": [
      "['App', 'Category', 'Rating', 'Reviews', 'Size', 'Installs', 'Type', 'Price', 'Content Rating', 'Genres', 'Last Updated', 'Current Ver', 'Android Ver']\n",
      "\n",
      "\n",
      "['Life Made WI-Fi Touchscreen Photo Frame', '1.9', '19', '3.0M', '1,000+', 'Free', '0', 'Everyone', '', 'February 11, 2018', '1.0.19', '4.0 and up']\n",
      "\n",
      "\n"
     ]
    }
   ],
   "source": [
    "print(android_header)\n",
    "print('\\n')\n",
    "\n",
    "explore_data(android, 10473, 10474, False)"
   ]
  },
  {
   "cell_type": "markdown",
   "metadata": {},
   "source": [
    "Entry 10472 corresponds to the app, \"Life Made WI-Fi Touchscreen Photo Frame\". The rating stated is 19 which is incorrect because the maximum rating for a Google Play app is 5. This problem is caused by a missing value in the 'Category' column. This row will be deleted since there is an error in it."
   ]
  },
  {
   "cell_type": "code",
   "execution_count": 6,
   "metadata": {
    "collapsed": false
   },
   "outputs": [
    {
     "name": "stdout",
     "output_type": "stream",
     "text": [
      "10842\n",
      "10841\n"
     ]
    }
   ],
   "source": [
    "print(len(android))\n",
    "del android[10472]  # don't run this more than once\n",
    "print(len(android))"
   ]
  },
  {
   "cell_type": "markdown",
   "metadata": {},
   "source": [
    "### Deleting duplicate entries (part one)\n",
    "\n",
    "We will check for duplicated entries in the android and ios data set. "
   ]
  },
  {
   "cell_type": "code",
   "execution_count": 7,
   "metadata": {
    "collapsed": false
   },
   "outputs": [
    {
     "name": "stdout",
     "output_type": "stream",
     "text": [
      "Number of duplicate apps: 1181\n",
      "Example of duplicate apps: ['Quick PDF Scanner + OCR FREE', 'Box', 'Google My Business', 'ZOOM Cloud Meetings', 'join.me - Simple Meetings', 'Box', 'Zenefits', 'Google Ads']\n",
      "\n",
      "\n",
      "Number of unique apps: 9659\n"
     ]
    }
   ],
   "source": [
    "duplicate_android = []\n",
    "unique_android = []\n",
    "\n",
    "for row in android[1:]:\n",
    "    name = row[0]\n",
    "    if name in unique_android:\n",
    "        duplicate_android.append(name)\n",
    "    else:\n",
    "        unique_android.append(name)\n",
    "\n",
    "print(\"Number of duplicate apps:\", len(duplicate_android))\n",
    "print(\"Example of duplicate apps:\", duplicate_android[:8])\n",
    "print('\\n')\n",
    "print(\"Number of unique apps:\", len(unique_android))"
   ]
  },
  {
   "cell_type": "code",
   "execution_count": 8,
   "metadata": {
    "collapsed": false
   },
   "outputs": [
    {
     "name": "stdout",
     "output_type": "stream",
     "text": [
      "Number of duplicate apps: 0\n",
      "Example of duplicate apps: []\n",
      "\n",
      "\n",
      "Number of unique apps: 7197\n"
     ]
    }
   ],
   "source": [
    "duplicate_ios = []\n",
    "unique_ios = []\n",
    "\n",
    "for row in ios[1:]:\n",
    "    name = row[0]\n",
    "    if name in unique_ios:\n",
    "        duplicate_ios.append(name)\n",
    "    else:\n",
    "        unique_ios.append(name)\n",
    "\n",
    "print(\"Number of duplicate apps:\", len(duplicate_ios))\n",
    "print(\"Example of duplicate apps:\", duplicate_ios[:8])\n",
    "print('\\n')\n",
    "print(\"Number of unique apps:\", len(unique_ios))"
   ]
  },
  {
   "cell_type": "markdown",
   "metadata": {},
   "source": [
    "We don't want to count certain apps more than once when we analyze data, so we need to remove the duplicate entries and keep only one entry per app. \n",
    "\n",
    "Below is an example of the app, \"Instagram\" which has duplicate entries in the Android data set.\n",
    "\n"
   ]
  },
  {
   "cell_type": "code",
   "execution_count": 9,
   "metadata": {
    "collapsed": false
   },
   "outputs": [
    {
     "name": "stdout",
     "output_type": "stream",
     "text": [
      "['Instagram', 'SOCIAL', '4.5', '66577313', 'Varies with device', '1,000,000,000+', 'Free', '0', 'Teen', 'Social', 'July 31, 2018', 'Varies with device', 'Varies with device']\n",
      "['Instagram', 'SOCIAL', '4.5', '66577446', 'Varies with device', '1,000,000,000+', 'Free', '0', 'Teen', 'Social', 'July 31, 2018', 'Varies with device', 'Varies with device']\n",
      "['Instagram', 'SOCIAL', '4.5', '66577313', 'Varies with device', '1,000,000,000+', 'Free', '0', 'Teen', 'Social', 'July 31, 2018', 'Varies with device', 'Varies with device']\n",
      "['Instagram', 'SOCIAL', '4.5', '66509917', 'Varies with device', '1,000,000,000+', 'Free', '0', 'Teen', 'Social', 'July 31, 2018', 'Varies with device', 'Varies with device']\n"
     ]
    }
   ],
   "source": [
    "for row in android:\n",
    "    name = row[0]\n",
    "    if name == \"Instagram\":\n",
    "        print(row)"
   ]
  },
  {
   "cell_type": "markdown",
   "metadata": {},
   "source": [
    "If you examine the rows we printed for the Instagram app, the main difference happens on the fourth position of each row, which corresponds to the number of reviews. The different numbers show the data was collected at different times.\n",
    "\n",
    "We can use this information to build a criterion for removing the duplicates. The higher the number of reviews, the more recent the data should be. Rather than removing duplicates randomly, we'll only keep the row with the highest number of reviews and remove the other entries for any given app."
   ]
  },
  {
   "cell_type": "markdown",
   "metadata": {},
   "source": [
    "We looped through the Google Play data set and found that there are 1,181 duplicates. After we remove the duplicates, we should be left with 9,659 rows.\n",
    "\n",
    "To remove the duplicates, we will:\n",
    "* Create a dictionary, where each dictionary key is a unique app name and the corresponding dictionary value is the highest number of reviews of that app.\n",
    "* Use the information stored in the dictionary and create a new data set, which will have only one entry per app (and for each app, we'll only select the entry with the highest number of reviews)."
   ]
  },
  {
   "cell_type": "code",
   "execution_count": 10,
   "metadata": {
    "collapsed": false
   },
   "outputs": [
    {
     "name": "stdout",
     "output_type": "stream",
     "text": [
      "Expected dictionary length: 9659\n",
      "\n",
      "\n",
      "Actual: 9659\n"
     ]
    }
   ],
   "source": [
    "reviews_max = {}\n",
    "\n",
    "for row in android[1:]:\n",
    "    name = row[0]\n",
    "    review = (row[3])\n",
    "    \n",
    "    if name in reviews_max and review < reviews_max[name]:\n",
    "        reviews_max[name] = review\n",
    "        \n",
    "    elif name not in reviews_max:\n",
    "        reviews_max[name] = review\n",
    "        \n",
    "print(\"Expected dictionary length: 9659\")\n",
    "print('\\n')\n",
    "print(\"Actual:\", len(reviews_max))"
   ]
  },
  {
   "cell_type": "code",
   "execution_count": 11,
   "metadata": {
    "collapsed": false
   },
   "outputs": [
    {
     "name": "stdout",
     "output_type": "stream",
     "text": [
      "9659\n"
     ]
    }
   ],
   "source": [
    "android_clean = [] #clean data\n",
    "android_added = [] #just app names\n",
    "\n",
    "for row in android[1:]:\n",
    "    name = row[0]\n",
    "    review = row[3]\n",
    "    \n",
    "    #if the app name in the dictionary corresponds to the number of reviews in the data set, then it is the right entry\n",
    "    if reviews_max[name] == review and name not in android_added:\n",
    "        android_clean.append(row)\n",
    "        android_added.append(name)\n",
    "        \n",
    "print(len(android_clean))"
   ]
  },
  {
   "cell_type": "markdown",
   "metadata": {},
   "source": [
    "### Removing non-English Apps\n",
    "\n",
    "Both data sets have apps with names that suggest they are not directed toward an English-speaking audience. We're not interested in keeping these apps, so we'll remove them. \n",
    "\n",
    "One way to go about this is to remove each app with a name containing a symbol that is not commonly used in English text — English text usually includes letters from the English alphabet, numbers composed of digits from 0 to 9, punctuation marks (., !, ?, ;), and other symbols (+, *, /).\n",
    "\n",
    "Behind the scenes, each character we use in a string has a corresponding number associated with it (according to the ASCII system)."
   ]
  },
  {
   "cell_type": "markdown",
   "metadata": {},
   "source": [
    "Write a function that takes in a string and returns `False` if there's any character in the string that doesn't belong to the set of common English characters, otherwise it returns `True`."
   ]
  },
  {
   "cell_type": "code",
   "execution_count": 12,
   "metadata": {
    "collapsed": true
   },
   "outputs": [],
   "source": [
    "def eng_or_not(string):\n",
    "    for character in string:\n",
    "        if ord(character) > 127:\n",
    "            print(character)\n",
    "            return False\n",
    "            \n",
    "    return True"
   ]
  },
  {
   "cell_type": "code",
   "execution_count": 13,
   "metadata": {
    "collapsed": false
   },
   "outputs": [
    {
     "name": "stdout",
     "output_type": "stream",
     "text": [
      "True\n",
      "\n",
      "\n",
      "爱\n",
      "False\n",
      "\n",
      "\n",
      "™\n",
      "False\n",
      "\n",
      "\n",
      "😜\n",
      "False\n"
     ]
    }
   ],
   "source": [
    "# Let's test the eng_or_not function\n",
    "\n",
    "print(eng_or_not(\"Instagram\"))\n",
    "\n",
    "print(\"\\n\")\n",
    "\n",
    "print(eng_or_not(\"爱奇艺PPS -《欢乐颂2》电视剧热播\"))\n",
    "\n",
    "print(\"\\n\")\n",
    "\n",
    "print(eng_or_not(\"Docs To Go™ Free Office Suite\"))\n",
    "\n",
    "print(\"\\n\")\n",
    "\n",
    "print(eng_or_not(\"Instachat 😜\"))\n"
   ]
  },
  {
   "cell_type": "markdown",
   "metadata": {},
   "source": [
    "The function seems to work fine, but some English app names use emojis or other symbols (™, — (em dash), – (en dash), etc.) that fall outside of the ASCII range. Because of this, we'll remove useful apps if we use the function in its current form.\n",
    "\n",
    "To minimize the impact of data loss, we'll only remove an app if its name has more than three characters with corresponding numbers falling outside the ASCII range. Our filter function is still not perfect, but it should be fairly effective."
   ]
  },
  {
   "cell_type": "code",
   "execution_count": 14,
   "metadata": {
    "collapsed": true
   },
   "outputs": [],
   "source": [
    "# New function\n",
    "\n",
    "def eng_or_not(string):\n",
    "    count = 0\n",
    "    for character in string:\n",
    "        if ord(character) > 127:\n",
    "            count += 1\n",
    "    if count > 3:\n",
    "        return False\n",
    "    else:\n",
    "        return True\n",
    "    "
   ]
  },
  {
   "cell_type": "code",
   "execution_count": 15,
   "metadata": {
    "collapsed": false
   },
   "outputs": [
    {
     "name": "stdout",
     "output_type": "stream",
     "text": [
      "False\n",
      "\n",
      "\n",
      "True\n",
      "\n",
      "\n",
      "True\n"
     ]
    }
   ],
   "source": [
    "# Let's test the new function\n",
    "\n",
    "print(eng_or_not(\"爱奇艺PPS -《欢乐颂2》电视剧热播\"))\n",
    "\n",
    "print(\"\\n\")\n",
    "\n",
    "print(eng_or_not(\"Docs To Go™ Free Office Suite\"))\n",
    "\n",
    "print(\"\\n\")\n",
    "\n",
    "print(eng_or_not(\"Instachat 😜\"))"
   ]
  },
  {
   "cell_type": "code",
   "execution_count": 16,
   "metadata": {
    "collapsed": false
   },
   "outputs": [
    {
     "name": "stdout",
     "output_type": "stream",
     "text": [
      "Number of clean, English Android apps: 9659\n",
      "Number of clean, English ios apps: 7197\n"
     ]
    }
   ],
   "source": [
    "# Clean and English apps\n",
    "\n",
    "CE_android = []\n",
    "CE_ios = []\n",
    "\n",
    "for row in android_clean:\n",
    "    name = row[0]\n",
    "    eng_or_not(name)\n",
    "    if True:\n",
    "        CE_android.append(row)\n",
    "\n",
    "for row in ios[1:]:\n",
    "    name = row[1]\n",
    "    eng_or_not(name)\n",
    "    if True:\n",
    "        CE_ios.append(row)\n",
    "        \n",
    "print(\"Number of clean, English Android apps:\", len(CE_android))\n",
    "print(\"Number of clean, English ios apps:\", len(CE_ios))"
   ]
  },
  {
   "cell_type": "markdown",
   "metadata": {},
   "source": [
    "### Isolate the free apps"
   ]
  },
  {
   "cell_type": "code",
   "execution_count": 17,
   "metadata": {
    "collapsed": false,
    "scrolled": true
   },
   "outputs": [
    {
     "name": "stdout",
     "output_type": "stream",
     "text": [
      "Number of clean, English, free Android apps: 8904\n",
      "Number of clean, English, free ios apps: 4056\n"
     ]
    }
   ],
   "source": [
    "CEF_android = []\n",
    "CEF_ios = []\n",
    "\n",
    "for row in CE_android:\n",
    "    price = row[7]\n",
    "    if price == \"0\":\n",
    "        CEF_android.append(row)\n",
    "    \n",
    "for row in CE_ios:\n",
    "    price = row[4]\n",
    "    if price == \"0.0\":\n",
    "        CEF_ios.append(row)\n",
    "    \n",
    "print(\"Number of clean, English, free Android apps:\", len(CEF_android))\n",
    "print(\"Number of clean, English, free ios apps:\", len(CEF_ios))"
   ]
  },
  {
   "cell_type": "markdown",
   "metadata": {},
   "source": [
    "As we mentioned in the introduction, our aim is to determine the kinds of apps that are likely to attract more users because our revenue is highly influenced by the number of people using our apps.\n",
    "\n",
    "To minimize risks and overhead, our validation strategy for an app idea is comprised of three steps:\n",
    "* Build a minimal Android version of the app, and add it to Google Play.\n",
    "* If the app has a good response from users, we develop it further.\n",
    "* If the app is profitable after six months, we build an iOS version of the app and add it to the App Store.\n",
    "\n",
    "Because our end goal is to add the app on both Google Play and the App Store, we need to find app profiles that are successful on both markets. For instance, a profile that might work well for both markets might be a productivity app that makes use of gamification.\n",
    "\n",
    "Let's begin the analysis by getting a sense of the most common genres for each market. For this, we'll build a frequency table for the \"prime_genre\" column of the App Store data set, and the \"Genres\" and \"Category\" columns of the Google Play data set."
   ]
  },
  {
   "cell_type": "markdown",
   "metadata": {},
   "source": [
    "We'll build two functions we can use to analyze the frequency tables:\n",
    "* One function to generate frequency tables that show percentages\n",
    "* Another function we can use to display the percentages in a descending order"
   ]
  },
  {
   "cell_type": "code",
   "execution_count": 18,
   "metadata": {
    "collapsed": true
   },
   "outputs": [],
   "source": [
    "# Frequency Table function \n",
    "\n",
    "def freq_table(data, index):\n",
    "    a_dic = {}\n",
    "    total = 0\n",
    "    for row in data:\n",
    "        total += 1\n",
    "        category = row[index]\n",
    "        if category in a_dic: \n",
    "            a_dic[category] +=1\n",
    "        else:\n",
    "            a_dic[category] = 1\n",
    "\n",
    "    percentage = {}\n",
    "    for item in a_dic:\n",
    "        percentage[item]= a_dic[item] / total *100\n",
    "    return percentage\n",
    "\n",
    "\n",
    "# Display Table function\n",
    "\n",
    "\n",
    "def display(dataset, index):\n",
    "    table = freq_table(dataset, index)\n",
    "    list_of_tuples = []\n",
    "    for key in table:\n",
    "        key_val_as_tuple = (table[key], key)\n",
    "        list_of_tuples.append(key_val_as_tuple)\n",
    "\n",
    "    table_sorted = sorted(list_of_tuples, reverse = True)\n",
    "    for entry in table_sorted:\n",
    "        print(entry[1], ':', entry[0])\n"
   ]
  },
  {
   "cell_type": "markdown",
   "metadata": {},
   "source": [
    "The sorted() function works well if we transform the dictionary into a list of tuples, where each tuple contains a dictionary key along with its corresponding dictionary value.\n",
    "\n",
    "* Takes in two parameters: dataset and index. dataset is expected to be a list of lists, and index is expected to be an integer.\n",
    "* Generates a frequency table using the freq_table() function (which you're going to write as an exercise).\n",
    "* Transforms the frequency table into a list of tuples, then sorts the list in a descending order.\n",
    "* Prints the entries of the frequency table in descending order."
   ]
  },
  {
   "cell_type": "code",
   "execution_count": 19,
   "metadata": {
    "collapsed": false,
    "scrolled": true
   },
   "outputs": [
    {
     "name": "stdout",
     "output_type": "stream",
     "text": [
      "Games : 55.64595660749507\n",
      "Entertainment : 8.234714003944774\n",
      "Photo & Video : 4.117357001972387\n",
      "Social Networking : 3.5256410256410255\n",
      "Education : 3.2544378698224854\n",
      "Shopping : 2.983234714003945\n",
      "Utilities : 2.687376725838264\n",
      "Lifestyle : 2.3175542406311638\n",
      "Finance : 2.0710059171597637\n",
      "Sports : 1.947731755424063\n",
      "Health & Fitness : 1.8737672583826428\n",
      "Music : 1.6518737672583828\n",
      "Book : 1.6272189349112427\n",
      "Productivity : 1.5285996055226825\n",
      "News : 1.4299802761341223\n",
      "Travel : 1.3806706114398422\n",
      "Food & Drink : 1.0601577909270217\n",
      "Weather : 0.7642998027613412\n",
      "Reference : 0.4930966469428008\n",
      "Navigation : 0.4930966469428008\n",
      "Business : 0.4930966469428008\n",
      "Catalogs : 0.22189349112426035\n",
      "Medical : 0.19723865877712032\n"
     ]
    }
   ],
   "source": [
    "# App Store data set\n",
    "\n",
    "display(CEF_ios, -5)"
   ]
  },
  {
   "cell_type": "markdown",
   "metadata": {},
   "source": [
    "Among the free English apps, more than a half (55.64%) are **games**. The share of **entertainment** apps drop significantly to 8%, followed by **photo and video** apps at 4%, **social networking** apps at 3.53%, and **education** apps at 3.25%.\n",
    "\n",
    "The general impression is that the App Store (at least the part containing free English apps) is dominated by apps that are designed for fun (games, entertainment, photo and video, social networking, sports, music, etc.), while apps with practical purposes (education, shopping, utilities, productivity, lifestyle, etc.) are more rare. However, the fact that fun apps are the most numerous doesn't also imply that they also have the greatest number of users — the demand might not be the same as the offer.\n"
   ]
  },
  {
   "cell_type": "code",
   "execution_count": 20,
   "metadata": {
    "collapsed": false,
    "scrolled": false
   },
   "outputs": [
    {
     "name": "stdout",
     "output_type": "stream",
     "text": [
      "FAMILY : 18.845462713387242\n",
      "GAME : 9.63611859838275\n",
      "TOOLS : 8.423180592991914\n",
      "BUSINESS : 4.5709793351302785\n",
      "LIFESTYLE : 3.930817610062893\n",
      "PRODUCTIVITY : 3.8858939802336026\n",
      "FINANCE : 3.6837376460017968\n",
      "MEDICAL : 3.526504941599281\n",
      "SPORTS : 3.4029649595687337\n",
      "PERSONALIZATION : 3.30188679245283\n",
      "COMMUNICATION : 3.2457322551662173\n",
      "HEALTH_AND_FITNESS : 3.054806828391734\n",
      "PHOTOGRAPHY : 2.9424977538185084\n",
      "NEWS_AND_MAGAZINES : 2.8301886792452833\n",
      "SOCIAL : 2.6504941599281224\n",
      "TRAVEL_AND_LOCAL : 2.324797843665768\n",
      "SHOPPING : 2.2461814914645104\n",
      "BOOKS_AND_REFERENCE : 2.178796046720575\n",
      "DATING : 1.853099730458221\n",
      "VIDEO_PLAYERS : 1.7857142857142856\n",
      "MAPS_AND_NAVIGATION : 1.4150943396226416\n",
      "EDUCATION : 1.2466307277628033\n",
      "FOOD_AND_DRINK : 1.2353998203054808\n",
      "ENTERTAINMENT : 1.0332434860736748\n",
      "LIBRARIES_AND_DEMO : 0.9321653189577718\n",
      "AUTO_AND_VEHICLES : 0.9209344115004492\n",
      "HOUSE_AND_HOME : 0.8310871518418688\n",
      "WEATHER : 0.7973944294699011\n",
      "EVENTS : 0.7075471698113208\n",
      "ART_AND_DESIGN : 0.6850853548966757\n",
      "PARENTING : 0.651392632524708\n",
      "COMICS : 0.628930817610063\n",
      "BEAUTY : 0.5952380952380952\n"
     ]
    }
   ],
   "source": [
    "# Google Play data set\n",
    "\n",
    "display(CEF_android, 1)"
   ]
  },
  {
   "cell_type": "markdown",
   "metadata": {},
   "source": [
    "There are not that many apps designed for fun, and it seems that a good number of apps are designed for practical purposes (family, tools, business, lifestyle, productivity, etc.). However, if we investigate this further, we can see that the family category (which accounts for almost 19% of the apps) means mostly games for kids.\n",
    "\n",
    "![Image](https://camo.githubusercontent.com/9bf24b9efc3d88a3d55f5c09e314987941f0bab5/68747470733a2f2f73332e616d617a6f6e6177732e636f6d2f64712d636f6e74656e742f3335302f7079316d385f66616d696c792e706e67)\n",
    "\n",
    "<br>\n",
    "\n",
    "Even so, practical apps seem to have a better representation on Google Play compared to App Store. This picture is also confirmed by the frequency table we see for the \"Genres\" column:\n"
   ]
  },
  {
   "cell_type": "code",
   "execution_count": 21,
   "metadata": {
    "collapsed": false
   },
   "outputs": [
    {
     "name": "stdout",
     "output_type": "stream",
     "text": [
      "Tools : 8.41194968553459\n",
      "Entertainment : 6.087151841868823\n",
      "Education : 5.3908355795148255\n",
      "Business : 4.5709793351302785\n",
      "Lifestyle : 3.919586702605571\n",
      "Productivity : 3.8858939802336026\n",
      "Finance : 3.6837376460017968\n",
      "Medical : 3.526504941599281\n",
      "Sports : 3.447888589398023\n",
      "Personalization : 3.30188679245283\n",
      "Communication : 3.2457322551662173\n",
      "Action : 3.088499550763702\n",
      "Health & Fitness : 3.054806828391734\n",
      "Photography : 2.9424977538185084\n",
      "News & Magazines : 2.8301886792452833\n",
      "Social : 2.6504941599281224\n",
      "Travel & Local : 2.3135669362084457\n",
      "Shopping : 2.2461814914645104\n",
      "Books & Reference : 2.178796046720575\n",
      "Simulation : 2.0664869721473496\n",
      "Dating : 1.853099730458221\n",
      "Arcade : 1.8418688230008984\n",
      "Video Players & Editors : 1.7857142857142856\n",
      "Casual : 1.7520215633423182\n",
      "Maps & Navigation : 1.4150943396226416\n",
      "Food & Drink : 1.2353998203054808\n",
      "Puzzle : 1.1230907457322552\n",
      "Racing : 0.9883198562443846\n",
      "Role Playing : 0.9321653189577718\n",
      "Libraries & Demo : 0.9321653189577718\n",
      "Strategy : 0.9209344115004492\n",
      "Auto & Vehicles : 0.9209344115004492\n",
      "House & Home : 0.8310871518418688\n",
      "Weather : 0.7973944294699011\n",
      "Events : 0.7075471698113208\n",
      "Adventure : 0.6850853548966757\n",
      "Comics : 0.6176999101527404\n",
      "Art & Design : 0.6064690026954178\n",
      "Beauty : 0.5952380952380952\n",
      "Parenting : 0.4941599281221923\n",
      "Card : 0.44923629829290207\n",
      "Trivia : 0.42677448337825696\n",
      "Casino : 0.42677448337825696\n",
      "Educational;Education : 0.39308176100628933\n",
      "Board : 0.38185085354896675\n",
      "Educational : 0.3706199460916442\n",
      "Education;Education : 0.3481581311769991\n",
      "Word : 0.2583108715184187\n",
      "Casual;Pretend Play : 0.2358490566037736\n",
      "Music : 0.20215633423180593\n",
      "Racing;Action & Adventure : 0.1684636118598383\n",
      "Puzzle;Brain Games : 0.1684636118598383\n",
      "Entertainment;Music & Video : 0.1684636118598383\n",
      "Casual;Brain Games : 0.13477088948787064\n",
      "Casual;Action & Adventure : 0.13477088948787064\n",
      "Arcade;Action & Adventure : 0.12353998203054807\n",
      "Action;Action & Adventure : 0.10107816711590296\n",
      "Educational;Pretend Play : 0.08984725965858043\n",
      "Simulation;Action & Adventure : 0.07861635220125787\n",
      "Parenting;Education : 0.07861635220125787\n",
      "Entertainment;Brain Games : 0.07861635220125787\n",
      "Board;Brain Games : 0.07861635220125787\n",
      "Parenting;Music & Video : 0.06738544474393532\n",
      "Educational;Brain Games : 0.06738544474393532\n",
      "Casual;Creativity : 0.06738544474393532\n",
      "Art & Design;Creativity : 0.06738544474393532\n",
      "Education;Pretend Play : 0.05615453728661276\n",
      "Role Playing;Pretend Play : 0.04492362982929021\n",
      "Education;Creativity : 0.04492362982929021\n",
      "Role Playing;Action & Adventure : 0.03369272237196766\n",
      "Puzzle;Action & Adventure : 0.03369272237196766\n",
      "Entertainment;Creativity : 0.03369272237196766\n",
      "Entertainment;Action & Adventure : 0.03369272237196766\n",
      "Educational;Creativity : 0.03369272237196766\n",
      "Educational;Action & Adventure : 0.03369272237196766\n",
      "Education;Music & Video : 0.03369272237196766\n",
      "Education;Brain Games : 0.03369272237196766\n",
      "Education;Action & Adventure : 0.03369272237196766\n",
      "Adventure;Action & Adventure : 0.03369272237196766\n",
      "Video Players & Editors;Music & Video : 0.022461814914645106\n",
      "Sports;Action & Adventure : 0.022461814914645106\n",
      "Simulation;Pretend Play : 0.022461814914645106\n",
      "Puzzle;Creativity : 0.022461814914645106\n",
      "Music;Music & Video : 0.022461814914645106\n",
      "Entertainment;Pretend Play : 0.022461814914645106\n",
      "Casual;Education : 0.022461814914645106\n",
      "Board;Action & Adventure : 0.022461814914645106\n",
      "Trivia;Education : 0.011230907457322553\n",
      "Travel & Local;Action & Adventure : 0.011230907457322553\n",
      "Tools;Education : 0.011230907457322553\n",
      "Strategy;Education : 0.011230907457322553\n",
      "Strategy;Creativity : 0.011230907457322553\n",
      "Strategy;Action & Adventure : 0.011230907457322553\n",
      "Simulation;Education : 0.011230907457322553\n",
      "Role Playing;Brain Games : 0.011230907457322553\n",
      "Racing;Pretend Play : 0.011230907457322553\n",
      "Puzzle;Education : 0.011230907457322553\n",
      "Parenting;Brain Games : 0.011230907457322553\n",
      "Music & Audio;Music & Video : 0.011230907457322553\n",
      "Lifestyle;Pretend Play : 0.011230907457322553\n",
      "Lifestyle;Education : 0.011230907457322553\n",
      "Health & Fitness;Education : 0.011230907457322553\n",
      "Health & Fitness;Action & Adventure : 0.011230907457322553\n",
      "Entertainment;Education : 0.011230907457322553\n",
      "Communication;Creativity : 0.011230907457322553\n",
      "Comics;Creativity : 0.011230907457322553\n",
      "Casual;Music & Video : 0.011230907457322553\n",
      "Card;Action & Adventure : 0.011230907457322553\n",
      "Books & Reference;Education : 0.011230907457322553\n",
      "Art & Design;Pretend Play : 0.011230907457322553\n",
      "Art & Design;Action & Adventure : 0.011230907457322553\n",
      "Arcade;Pretend Play : 0.011230907457322553\n",
      "Adventure;Education : 0.011230907457322553\n"
     ]
    }
   ],
   "source": [
    "display(CEF_android, -4)"
   ]
  },
  {
   "cell_type": "markdown",
   "metadata": {},
   "source": [
    "The difference between the Genres and the Category columns is not crystal clear, but one thing we can notice is that the Genres column is much more granular (it has more categories). We're only looking for the bigger picture at the moment, so we'll only work with the Category column moving forward.\n",
    "\n",
    "Up to this point, we found that the **App Store is dominated by apps designed for fun, while Google Play shows a more balanced landscape of both practical and for-fun apps.** Now we'd like to get an idea about the kind of apps that have most users."
   ]
  },
  {
   "cell_type": "markdown",
   "metadata": {
    "collapsed": true
   },
   "source": [
    "### Most popular app by genre on the App Store\n",
    "\n",
    "One way to find out what genres are the most popular (have the most users) is to calculate the average number of installs for each app genre. \n",
    "\n",
    "For the Google Play data set, we can find this information in the Installs column, but for the App Store data set this information is missing. As a workaround, we'll take the total number of user ratings as a proxy, which we can find in the \"rating_count_tot\"."
   ]
  },
  {
   "cell_type": "code",
   "execution_count": 38,
   "metadata": {
    "collapsed": false
   },
   "outputs": [
    {
     "name": "stdout",
     "output_type": "stream",
     "text": [
      "Reference : 67447.9\n",
      "Music : 56482.02985074627\n",
      "Social Networking : 53078.195804195806\n",
      "Weather : 47220.93548387097\n",
      "Photo & Video : 27249.892215568863\n",
      "Navigation : 25972.05\n",
      "Travel : 20216.01785714286\n",
      "Food & Drink : 20179.093023255813\n",
      "Sports : 20128.974683544304\n",
      "Health & Fitness : 19952.315789473683\n",
      "Productivity : 19053.887096774193\n",
      "Games : 18924.68896765618\n",
      "Shopping : 18746.677685950413\n",
      "News : 15892.724137931034\n",
      "Utilities : 14010.100917431193\n",
      "Finance : 13522.261904761905\n",
      "Entertainment : 10822.961077844311\n",
      "Lifestyle : 8978.308510638299\n",
      "Book : 8498.333333333334\n",
      "Business : 6367.8\n",
      "Education : 6266.333333333333\n",
      "Catalogs : 1779.5555555555557\n",
      "Medical : 459.75\n"
     ]
    }
   ],
   "source": [
    "genre_freq = freq_table(CEF_ios, -5)\n",
    "\n",
    "sorted_genre = {}\n",
    "\n",
    "for genre in genre_freq:\n",
    "    total = 0\n",
    "    len_genre = 0\n",
    "    a_list = []\n",
    "    for row in CEF_ios:\n",
    "        app_genre = row[-5]\n",
    "        rating = float(row[5])\n",
    "        if row[-5] == genre:\n",
    "            total += rating\n",
    "            len_genre += 1\n",
    "    avg_genre = total/ len_genre\n",
    "    sorted_genre[genre] = avg_genre\n",
    "    \n",
    "display_genre = []\n",
    "for item in sorted_genre:\n",
    "    tuple_genre = (sorted_genre[item], item)\n",
    "    display_genre.append(tuple_genre)\n",
    "final_table = sorted(display_genre, reverse = True)\n",
    "for row in final_table:\n",
    "    print(row[1], \":\", row[0])\n",
    "        "
   ]
  },
  {
   "cell_type": "markdown",
   "metadata": {},
   "source": [
    "Navigation apps have a very high number of user reviews, but this figure is heavily influenced by Waze and Google Maps, which have close to half a million user reviews together:"
   ]
  },
  {
   "cell_type": "code",
   "execution_count": 58,
   "metadata": {
    "collapsed": false
   },
   "outputs": [
    {
     "name": "stdout",
     "output_type": "stream",
     "text": [
      "('Waze - GPS Navigation, Maps & Real-time Traffic', ':', '345046')\n",
      "('Google Maps - Navigation & Transit', ':', '154911')\n",
      "('Geocaching®', ':', '12811')\n",
      "('CoPilot GPS – Car Navigation & Offline Maps', ':', '3582')\n"
     ]
    }
   ],
   "source": [
    "nav_apps = []\n",
    "for app in CEF_ios:\n",
    "    if app[-5] == 'Navigation':\n",
    "        hi =(app[1], \":\", app[5])\n",
    "        nav_apps.append(hi)\n",
    "for app in nav_apps[0:4]:\n",
    "    print(app)\n"
   ]
  },
  {
   "cell_type": "markdown",
   "metadata": {},
   "source": [
    "The same pattern applies to social networking apps, where the average number is heavily influenced by a few giants like Facebook, Pinterest, Skype, etc. Same applies to music apps, where a few big players like Pandora, Spotify, and Shazam heavily influence the average number.\n",
    "\n",
    "Our aim is to find popular genres, but navigation, social networking or music apps might seem more popular than they really are. The average number of ratings seem to be skewed by very few apps which have hundreds of thousands of user ratings, while the other apps may struggle to get past the 10,000 threshold. We could get a better picture by removing these extremely popular apps for each genre and then rework the averages, but we'll leave this level of detail for later.\n",
    "\n",
    "We will also explore some other genres below:"
   ]
  },
  {
   "cell_type": "code",
   "execution_count": 63,
   "metadata": {
    "collapsed": false,
    "scrolled": true
   },
   "outputs": [
    {
     "name": "stdout",
     "output_type": "stream",
     "text": [
      "('Calorie Counter & Diet Tracker by MyFitnessPal', ':', '507706')\n",
      "('Lose It! – Weight Loss Program and Calorie Counter', ':', '373835')\n",
      "('Weight Watchers', ':', '136833')\n",
      "('Sleep Cycle alarm clock', ':', '104539')\n"
     ]
    }
   ],
   "source": [
    "hf_apps = []\n",
    "for app in CEF_ios:\n",
    "    if app[-5] == 'Health & Fitness':\n",
    "        bye = (app[1], \":\", app[5])\n",
    "        hf_apps.append(bye)\n",
    "for app in hf_apps[0:4]:\n",
    "    print(app)\n"
   ]
  },
  {
   "cell_type": "markdown",
   "metadata": {},
   "source": [
    "**Health & Fitness** apps are very relevant in today's society and can appeal to a wide range of audiences and age range. However, this will require fitness professionals for content creation and could be costly. On the contrary, content can be re-used over and over again on these apps as people can repeat the same exercises."
   ]
  },
  {
   "cell_type": "code",
   "execution_count": 64,
   "metadata": {
    "collapsed": false,
    "scrolled": true
   },
   "outputs": [
    {
     "name": "stdout",
     "output_type": "stream",
     "text": [
      "('Google Earth', ':', '446185')\n",
      "('Yelp - Nearby Restaurants, Shopping & Services', ':', '223885')\n",
      "('GasBuddy', ':', '145549')\n",
      "('TripAdvisor Hotels Flights Restaurants', ':', '56194')\n"
     ]
    }
   ],
   "source": [
    "travel_apps = []\n",
    "for app in CEF_ios:\n",
    "    if app[-5] == 'Travel':\n",
    "        bye = (app[1], \":\", app[5])\n",
    "        travel_apps.append(bye)\n",
    "for app in travel_apps[0:4]:\n",
    "    print(app)\n"
   ]
  },
  {
   "cell_type": "markdown",
   "metadata": {},
   "source": [
    "**Travel apps** - these apps seem like a fun idea but will often require a lot of data to be collected on a global scale. Without full, complete information, the app is unlikely to appeal to users."
   ]
  },
  {
   "cell_type": "code",
   "execution_count": 67,
   "metadata": {
    "collapsed": false
   },
   "outputs": [
    {
     "name": "stdout",
     "output_type": "stream",
     "text": [
      "('Chase Mobile℠', ':', '233270')\n",
      "('Mint: Personal Finance, Budget, Bills & Money', ':', '232940')\n",
      "('Bank of America - Mobile Banking', ':', '119773')\n",
      "('PayPal - Send and request money safely', ':', '119487')\n"
     ]
    }
   ],
   "source": [
    "fin_apps = []\n",
    "for app in CEF_ios:\n",
    "    if app[-5] == 'Finance':\n",
    "        bye = (app[1], \":\", app[5])\n",
    "        fin_apps.append(bye)\n",
    "for app in fin_apps[0:4]:\n",
    "    print(app)\n"
   ]
  },
  {
   "cell_type": "markdown",
   "metadata": {},
   "source": [
    "**Finance apps** — these apps involve banking, paying bills, money transfer, etc. Building a finance app requires domain knowledge, and we don't want to hire a finance expert just to build an app."
   ]
  },
  {
   "cell_type": "code",
   "execution_count": 68,
   "metadata": {
    "collapsed": false
   },
   "outputs": [
    {
     "name": "stdout",
     "output_type": "stream",
     "text": [
      "('Evernote - stay organized', ':', '161065')\n",
      "('Gmail - email by Google: secure, fast & organized', ':', '135962')\n",
      "('iTranslate - Language Translator & Dictionary', ':', '123215')\n",
      "('Yahoo Mail - Keeps You Organized!', ':', '113709')\n"
     ]
    }
   ],
   "source": [
    "prod_apps = []\n",
    "for app in CEF_ios:\n",
    "    if app[-5] == 'Productivity':\n",
    "        bye = (app[1], \":\", app[5])\n",
    "        prod_apps.append(bye)\n",
    "for app in prod_apps[0:4]:\n",
    "    print(app)\n"
   ]
  },
  {
   "cell_type": "markdown",
   "metadata": {},
   "source": [
    "**Productivity Apps** - these apps are more straightforward to make compared to the others and if users develop the habit of using the app, they are likely to go on it one to several times a day due to the nature of the app and the need to stay on top with daily tasks."
   ]
  },
  {
   "cell_type": "markdown",
   "metadata": {},
   "source": [
    "### Most popular apps on Google Play\n",
    "\n",
    "For the Google Play market, we actually have data about the number of installs, so we should be able to get a clearer picture about genre popularity. However, the install numbers don't seem precise enough — we can see that most values are open-ended (100+, 1,000+, 5,000+, etc.):"
   ]
  },
  {
   "cell_type": "code",
   "execution_count": 72,
   "metadata": {
    "collapsed": false
   },
   "outputs": [
    {
     "name": "stdout",
     "output_type": "stream",
     "text": [
      "1,000,000+ : 15.700808625336926\n",
      "100,000+ : 11.567834681042228\n",
      "10,000,000+ : 10.489667565139262\n",
      "10,000+ : 10.276280323450134\n",
      "1,000+ : 8.434411500449237\n",
      "100+ : 6.918238993710692\n",
      "5,000,000+ : 6.7946990116801445\n",
      "500,000+ : 5.536837376460018\n",
      "50,000+ : 4.818059299191375\n",
      "5,000+ : 4.526055705300988\n",
      "10+ : 3.5377358490566038\n",
      "500+ : 3.234501347708895\n",
      "50,000,000+ : 2.279874213836478\n",
      "100,000,000+ : 2.1226415094339623\n",
      "50+ : 1.9092542677448336\n",
      "5+ : 0.7861635220125787\n",
      "1+ : 0.5166217430368374\n",
      "500,000,000+ : 0.2695417789757413\n",
      "1,000,000,000+ : 0.22461814914645103\n",
      "0+ : 0.04492362982929021\n",
      "0 : 0.011230907457322553\n"
     ]
    }
   ],
   "source": [
    "display(CEF_android, 5) "
   ]
  },
  {
   "cell_type": "markdown",
   "metadata": {},
   "source": [
    "We don't know whether an app with 100,000+ installs has 100,000 installs, 200,000, or 350,000. However, we don't need very precise data for our purposes — we only want to find out which app genres attract the most users, and we don't need perfect precision with respect to the number of users. \n",
    "\n",
    "We're going to leave the numbers as they are, which means that we'll consider that an app with 100,000+ installs has 100,000 installs, and an app with 1,000,000+ installs has 1,000,000 installs, and so on. To perform computations, however, we'll need to convert each install number from string to float. This means we need to remove the commas and the plus characters, otherwise the conversion will fail and raise an error."
   ]
  },
  {
   "cell_type": "code",
   "execution_count": 80,
   "metadata": {
    "collapsed": false
   },
   "outputs": [
    {
     "name": "stdout",
     "output_type": "stream",
     "text": [
      "COMMUNICATION : 38193481.66435986\n",
      "VIDEO_PLAYERS : 24634790.6918239\n",
      "SOCIAL : 23253652.127118643\n",
      "ENTERTAINMENT : 19428913.04347826\n",
      "PHOTOGRAPHY : 17772018.759541985\n",
      "PRODUCTIVITY : 16724506.687861271\n",
      "TRAVEL_AND_LOCAL : 13984077.710144928\n",
      "GAME : 13022056.468531469\n",
      "TOOLS : 10800059.298666667\n",
      "NEWS_AND_MAGAZINES : 9401635.952380951\n",
      "BOOKS_AND_REFERENCE : 8587351.855670104\n",
      "SHOPPING : 7001693.425\n",
      "PERSONALIZATION : 5201142.816326531\n",
      "WEATHER : 5074486.197183099\n",
      "FAMILY : 4341651.782479142\n",
      "SPORTS : 4274688.722772277\n",
      "HEALTH_AND_FITNESS : 4167457.3602941176\n",
      "MAPS_AND_NAVIGATION : 3993339.603174603\n",
      "EDUCATION : 3061711.7117117117\n",
      "FOOD_AND_DRINK : 1924897.7363636363\n",
      "ART_AND_DESIGN : 1874132.786885246\n",
      "BUSINESS : 1700127.9852579853\n",
      "LIFESTYLE : 1436126.94\n",
      "FINANCE : 1387692.475609756\n",
      "HOUSE_AND_HOME : 1313681.9054054054\n",
      "DATING : 854028.8303030303\n",
      "COMICS : 803234.8214285715\n",
      "AUTO_AND_VEHICLES : 647317.8170731707\n",
      "LIBRARIES_AND_DEMO : 638503.734939759\n",
      "PARENTING : 542603.6206896552\n",
      "BEAUTY : 513151.88679245283\n",
      "EVENTS : 253542.22222222222\n",
      "MEDICAL : 107144.40764331211\n"
     ]
    }
   ],
   "source": [
    "cat_freq = freq_table(CEF_android, 1)\n",
    "sorted_cat = {}\n",
    "\n",
    "for category in cat_freq:\n",
    "    total = 0\n",
    "    len_cat = 0\n",
    "    for row in CEF_android:\n",
    "        genre = row[1]\n",
    "        downloads = row[5]\n",
    "        if genre == category:\n",
    "            downloads = downloads.replace(',', '')\n",
    "            downloads = downloads.replace('+', '')\n",
    "            total += float(downloads)\n",
    "            len_cat += 1\n",
    "    avg_downloads = total/ len_cat\n",
    "    sorted_cat[category] = avg_downloads\n",
    "\n",
    "display_cat = []\n",
    "for item in sorted_cat:\n",
    "    tuple_cat = (sorted_cat[item], item)\n",
    "    display_cat.append(tuple_cat)\n",
    "final_cat = sorted(display_cat, reverse = True)\n",
    "for row in final_cat:\n",
    "    print(row[1], \":\", row[0])\n",
    "    \n"
   ]
  },
  {
   "cell_type": "markdown",
   "metadata": {},
   "source": [
    "On average, communication apps have the most installs: 38,456,119. This number is heavily skewed up by a few apps that have over one billion installs (WhatsApp, Facebook Messenger, Skype, Google Chrome, Gmail, and Hangouts), and a few others with over 100 and 500 million installs:"
   ]
  },
  {
   "cell_type": "code",
   "execution_count": 88,
   "metadata": {
    "collapsed": false
   },
   "outputs": [
    {
     "name": "stdout",
     "output_type": "stream",
     "text": [
      "Messenger – Text and Video Chat for Free : 1,000,000,000+\n",
      "Messenger Lite: Free Calls & Messages : 100,000,000+\n",
      "Gmail : 1,000,000,000+\n",
      "Hangouts : 1,000,000,000+\n",
      "Viber Messenger : 500,000,000+\n",
      "Firefox Browser fast & private : 100,000,000+\n",
      "Yahoo Mail – Stay Organized : 100,000,000+\n",
      "imo beta free calls and text : 100,000,000+\n",
      "imo free video calls and chat : 500,000,000+\n",
      "Opera Mini - fast web browser : 100,000,000+\n",
      "Opera Browser: Fast and Secure : 100,000,000+\n",
      "Who : 100,000,000+\n",
      "WeChat : 100,000,000+\n",
      "UC Browser Mini -Tiny Fast Private & Secure : 100,000,000+\n",
      "Android Messages : 100,000,000+\n",
      "Telegram : 100,000,000+\n",
      "Google Duo - High Quality Video Calls : 500,000,000+\n",
      "UC Browser - Fast Download Private & Secure : 500,000,000+\n",
      "Skype - free IM & video calls : 1,000,000,000+\n",
      "GO SMS Pro - Messenger, Free Themes, Emoji : 100,000,000+\n",
      "BBM - Free Calls & Messages : 100,000,000+\n",
      "KakaoTalk: Free Calls & Text : 100,000,000+\n",
      "Truecaller: Caller ID, SMS spam blocking & Dialer : 100,000,000+\n",
      "WhatsApp Messenger : 1,000,000,000+\n",
      "Google Chrome: Fast & Secure : 1,000,000,000+\n",
      "LINE: Free Calls & Messages : 500,000,000+\n",
      "Kik : 100,000,000+\n"
     ]
    }
   ],
   "source": [
    "for row in CEF_android:\n",
    "    category = row[1]\n",
    "    downloads = row[5]\n",
    "    if category == \"COMMUNICATION\" and (downloads == '1,000,000,000+'\n",
    "                                        or downloads == '100,000,000+'\n",
    "                                        or downloads == '500,000,000+'):\n",
    "                                    \n",
    "        print(row[0], \":\", downloads)"
   ]
  },
  {
   "cell_type": "markdown",
   "metadata": {},
   "source": [
    "We'll explore some other popular categories below:"
   ]
  },
  {
   "cell_type": "code",
   "execution_count": 89,
   "metadata": {
    "collapsed": false,
    "scrolled": true
   },
   "outputs": [
    {
     "name": "stdout",
     "output_type": "stream",
     "text": [
      "Sweet Selfie - selfie camera, beauty cam, photo edit : 100,000,000+\n",
      "YouCam Perfect - Selfie Photo Editor : 100,000,000+\n",
      "Cymera Camera- Photo Editor, Filter,Collage,Layout : 100,000,000+\n",
      "LINE Camera - Photo editor : 100,000,000+\n",
      "Camera360: Selfie Photo Editor with Funny Sticker : 100,000,000+\n",
      "Photo Editor Pro : 100,000,000+\n",
      "Retrica : 100,000,000+\n",
      "Candy Camera - selfie, beauty camera, photo editor : 100,000,000+\n",
      "YouCam Makeup - Magic Selfie Makeovers : 100,000,000+\n",
      "Photo Collage Editor : 100,000,000+\n",
      "PhotoGrid: Video & Pic Collage Maker, Photo Editor : 100,000,000+\n",
      "B612 - Beauty & Filter Camera : 100,000,000+\n",
      "PicsArt Photo Studio: Collage Maker & Pic Editor : 100,000,000+\n",
      "S Photo Editor - Collage Maker , Photo Collage : 100,000,000+\n",
      "Z Camera - Photo Editor, Beauty Selfie, Collage : 100,000,000+\n",
      "AR effect : 100,000,000+\n",
      "Google Photos : 1,000,000,000+\n",
      "BeautyPlus - Easy Photo Editor & Selfie Camera : 100,000,000+\n",
      "Photo Editor Collage Maker Pro : 100,000,000+\n"
     ]
    }
   ],
   "source": [
    "for row in CEF_android:\n",
    "    category = row[1]\n",
    "    downloads = row[5]\n",
    "    if category == \"PHOTOGRAPHY\" and (downloads == '1,000,000,000+'\n",
    "                                        or downloads == '100,000,000+'\n",
    "                                        or downloads == '500,000,000+'):\n",
    "                                    \n",
    "        print(row[0], \":\", downloads)"
   ]
  },
  {
   "cell_type": "markdown",
   "metadata": {},
   "source": [
    "**Photography Apps** - Very popular and in high demand but probably complicated to create. Simpler ones could include apps that provide pretty templates and filters for Instagram stories. "
   ]
  },
  {
   "cell_type": "code",
   "execution_count": 90,
   "metadata": {
    "collapsed": false
   },
   "outputs": [
    {
     "name": "stdout",
     "output_type": "stream",
     "text": [
      "Cache Cleaner-DU Speed Booster (booster & cleaner) : 100,000,000+\n",
      "Calculator : 100,000,000+\n",
      "Device Help : 100,000,000+\n",
      "Account Manager : 100,000,000+\n",
      "Samsung Calculator : 100,000,000+\n",
      "Google Korean Input : 100,000,000+\n",
      "Tiny Flashlight + LED : 100,000,000+\n",
      "GO Keyboard - Cute Emojis, Themes and GIFs : 100,000,000+\n",
      "Speedtest by Ookla : 100,000,000+\n",
      "Applock : 100,000,000+\n",
      "Google Translate : 500,000,000+\n",
      "Clean Master- Space Cleaner & Antivirus : 500,000,000+\n",
      "Lookout Security & Antivirus : 100,000,000+\n",
      "Gboard - the Google Keyboard : 500,000,000+\n",
      "Google : 1,000,000,000+\n",
      "Google Now Launcher : 100,000,000+\n",
      "SHAREit - Transfer & Share : 500,000,000+\n",
      "360 Security - Free Antivirus, Booster, Cleaner : 100,000,000+\n",
      "Samsung Smart Switch Mobile : 100,000,000+\n",
      "Share Music & Transfer Files - Xender : 100,000,000+\n",
      "Avast Mobile Security 2018 - Antivirus & App Lock : 100,000,000+\n",
      "AppLock : 100,000,000+\n",
      "AVG AntiVirus 2018 for Android Security : 100,000,000+\n",
      "Security Master - Antivirus, VPN, AppLock, Booster : 500,000,000+\n",
      "CM Locker - Security Lockscreen : 100,000,000+\n",
      "Battery Doctor-Battery Life Saver & Battery Cooler : 100,000,000+\n",
      "Automatic Call Recorder : 100,000,000+\n",
      "Anti-virus Dr.Web Light : 100,000,000+\n",
      "DU Battery Saver - Battery Charger & Battery Life : 100,000,000+\n"
     ]
    }
   ],
   "source": [
    "for row in CEF_android:\n",
    "    category = row[1]\n",
    "    downloads = row[5]\n",
    "    if category == \"TOOLS\" and (downloads == '1,000,000,000+'\n",
    "                                        or downloads == '100,000,000+'\n",
    "                                        or downloads == '500,000,000+'):                               \n",
    "        print(row[0], \":\", downloads)"
   ]
  },
  {
   "cell_type": "markdown",
   "metadata": {},
   "source": [
    "** Tools Apps** - A possible opportunity as many people seek tools for convenience. However, engagement rate is likely to be low as these are transactional apps that people often do not have an attachment to."
   ]
  },
  {
   "cell_type": "code",
   "execution_count": 93,
   "metadata": {
    "collapsed": false
   },
   "outputs": [
    {
     "name": "stdout",
     "output_type": "stream",
     "text": [
      "Period Tracker - Period Calendar Ovulation Tracker : 100,000,000+\n",
      "Samsung Health : 500,000,000+\n"
     ]
    }
   ],
   "source": [
    "for row in CEF_android:\n",
    "    category = row[1]\n",
    "    downloads = row[5]\n",
    "    if category == \"HEALTH_AND_FITNESS\" and (downloads == '1,000,000,000+'\n",
    "                                        or downloads == '100,000,000+'\n",
    "                                        or downloads == '500,000,000+'):\n",
    "                                    \n",
    "        print(row[0], \":\", downloads)"
   ]
  },
  {
   "cell_type": "markdown",
   "metadata": {},
   "source": [
    "**Health and Fitness apps** - In comparisson, not as many of these apps with over 100M downloads. This could be an opportunity. But there are also many Health and Fitness apps in the Google Play store with a smaller number of downloads which signigies strong competition."
   ]
  },
  {
   "cell_type": "code",
   "execution_count": 94,
   "metadata": {
    "collapsed": false
   },
   "outputs": [
    {
     "name": "stdout",
     "output_type": "stream",
     "text": [
      "Microsoft Excel : 100,000,000+\n",
      "Google Keep : 100,000,000+\n",
      "Google Calendar : 500,000,000+\n",
      "Samsung Notes : 100,000,000+\n",
      "SwiftKey Keyboard : 100,000,000+\n",
      "Google Docs : 100,000,000+\n",
      "Microsoft PowerPoint : 100,000,000+\n",
      "Google Slides : 100,000,000+\n",
      "ColorNote Notepad Notes : 100,000,000+\n",
      "Microsoft OneNote : 100,000,000+\n",
      "Microsoft OneDrive : 100,000,000+\n",
      "Cloud Print : 500,000,000+\n",
      "Adobe Acrobat Reader : 100,000,000+\n",
      "Microsoft Word : 500,000,000+\n",
      "Dropbox : 500,000,000+\n",
      "ES File Explorer File Manager : 100,000,000+\n",
      "Evernote – Organizer, Planner for Notes & Memos : 100,000,000+\n",
      "Microsoft Outlook : 100,000,000+\n",
      "Google Drive : 1,000,000,000+\n",
      "WPS Office - Word, Docs, PDF, Note, Slide & Sheet : 100,000,000+\n",
      "CamScanner - Phone PDF Creator : 100,000,000+\n",
      "Google Sheets : 100,000,000+\n"
     ]
    }
   ],
   "source": [
    "for row in CEF_android:\n",
    "    category = row[1]\n",
    "    downloads = row[5]\n",
    "    if category == \"PRODUCTIVITY\" and (downloads == '1,000,000,000+'\n",
    "                                        or downloads == '100,000,000+'\n",
    "                                        or downloads == '500,000,000+'):\n",
    "                                    \n",
    "        print(row[0], \":\", downloads)"
   ]
  },
  {
   "cell_type": "markdown",
   "metadata": {},
   "source": [
    "**Productivity apps** - Dominated by some large software companies like Microsoft, Dropbox, Evernote. Google's applications (if available) are often amongst the most downloaded in every category."
   ]
  },
  {
   "cell_type": "markdown",
   "metadata": {},
   "source": [
    "### Conclusion\n",
    "\n",
    "Consider **creating a productivity app** as this is simpler compared to finance apps, games, photography apps. Create free features/ functions that large players do not currently offer or require users to pay for. Gamifying the productivity app is also a good way to encourage user retention and engagement to increase ad revenue. \n",
    "\n",
    "**Advantages** of productivity apps over other apps:\n",
    "* Does not require a skilled professional to provide specific areas of knowledge.\n",
    "* Does not require constant content creation \n",
    "* Lower competition compared to communications and social networking apps.\n",
    "* Relatively simpler interface and design."
   ]
  }
 ],
 "metadata": {
  "kernelspec": {
   "display_name": "Python 3",
   "language": "python",
   "name": "python3"
  },
  "language_info": {
   "codemirror_mode": {
    "name": "ipython",
    "version": 3
   },
   "file_extension": ".py",
   "mimetype": "text/x-python",
   "name": "python",
   "nbconvert_exporter": "python",
   "pygments_lexer": "ipython3",
   "version": "3.4.3"
  }
 },
 "nbformat": 4,
 "nbformat_minor": 2
}
