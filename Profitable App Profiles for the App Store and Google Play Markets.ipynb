{
 "cells": [
  {
   "cell_type": "markdown",
   "metadata": {},
   "source": [
    "# Profitable App Profiles for the App Store and Google Play Markets\n",
    "\n",
    "The goal for this project is to analyze data from the App Store and Google Play to help developers understand what type of apps are likely to attract more users. As many free apps receive revenue from ads, the more users engaged with the app, the better.\n"
   ]
  },
  {
   "cell_type": "markdown",
   "metadata": {},
   "source": [
    "As of September 2018, there were approximately **2 million iOS apps** available on the App Store, and **2.1 million Android apps** on Google Play.\n",
    "\n",
    "![Image](https://s3.amazonaws.com/dq-content/350/py1m8_statista.png)\n",
    "\n",
    "Source: [Statista](https://www.statista.com/statistics/276623/number-of-apps-available-in-leading-app-stores/)\n",
    "\n",
    "<br>\n",
    "\n",
    "Collecting data for over 4 million apps requires a significant amount of time and money. Luckily, these are two data sets that seem suitable for the project's goals:\n",
    "\n",
    "* A [data set](https://dq-content.s3.amazonaws.com/350/googleplaystore.csv) containing data about approximately 10,000 Android apps from Google Play, collected in August 2018. \n",
    "* A [data set](https://dq-content.s3.amazonaws.com/350/AppleStore.csv)containing data about approximately 7,000 iOS apps from the App Store, collected in July 2017.\n",
    "\n",
    "<br>\n",
    "\n",
    "We'll start by opening and exploring these two data sets."
   ]
  },
  {
   "cell_type": "code",
   "execution_count": 2,
   "metadata": {},
   "outputs": [],
   "source": [
    "def explore_data(dataset, start, end, rows_and_columns=False):\n",
    "    dataset_slice = dataset[start:end]    \n",
    "    for row in dataset_slice:\n",
    "        print(row)\n",
    "        print('\\n') # adds a new (empty) line after each row\n",
    "\n",
    "    if rows_and_columns:\n",
    "        print('Number of rows:', len(dataset))"
   ]
  },
  {
   "cell_type": "code",
   "execution_count": null,
   "metadata": {},
   "outputs": [],
   "source": []
  }
 ],
 "metadata": {
  "kernelspec": {
   "display_name": "Python 3",
   "language": "python",
   "name": "python3"
  },
  "language_info": {
   "codemirror_mode": {
    "name": "ipython",
    "version": 3
   },
   "file_extension": ".py",
   "mimetype": "text/x-python",
   "name": "python",
   "nbconvert_exporter": "python",
   "pygments_lexer": "ipython3",
   "version": "3.8.3"
  }
 },
 "nbformat": 4,
 "nbformat_minor": 4
}
